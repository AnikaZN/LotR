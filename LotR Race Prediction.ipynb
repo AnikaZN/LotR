{
 "cells": [
  {
   "cell_type": "code",
   "execution_count": 1,
   "metadata": {},
   "outputs": [
    {
     "data": {
      "text/html": [
       "<div>\n",
       "<style scoped>\n",
       "    .dataframe tbody tr th:only-of-type {\n",
       "        vertical-align: middle;\n",
       "    }\n",
       "\n",
       "    .dataframe tbody tr th {\n",
       "        vertical-align: top;\n",
       "    }\n",
       "\n",
       "    .dataframe thead th {\n",
       "        text-align: right;\n",
       "    }\n",
       "</style>\n",
       "<table border=\"1\" class=\"dataframe\">\n",
       "  <thead>\n",
       "    <tr style=\"text-align: right;\">\n",
       "      <th></th>\n",
       "      <th>birth</th>\n",
       "      <th>death</th>\n",
       "      <th>gender</th>\n",
       "      <th>hair</th>\n",
       "      <th>height</th>\n",
       "      <th>name</th>\n",
       "      <th>race</th>\n",
       "      <th>realm</th>\n",
       "      <th>spouse</th>\n",
       "    </tr>\n",
       "  </thead>\n",
       "  <tbody>\n",
       "    <tr>\n",
       "      <td>0</td>\n",
       "      <td>NaN</td>\n",
       "      <td>NaN</td>\n",
       "      <td>Female</td>\n",
       "      <td>NaN</td>\n",
       "      <td>NaN</td>\n",
       "      <td>Adanel</td>\n",
       "      <td>Men</td>\n",
       "      <td>NaN</td>\n",
       "      <td>Belemir</td>\n",
       "    </tr>\n",
       "    <tr>\n",
       "      <td>1</td>\n",
       "      <td>TA 2978</td>\n",
       "      <td>February 26 ,3019</td>\n",
       "      <td>Male</td>\n",
       "      <td>Dark (book) Light brown (movie)</td>\n",
       "      <td>NaN</td>\n",
       "      <td>Boromir</td>\n",
       "      <td>Men</td>\n",
       "      <td>NaN</td>\n",
       "      <td>NaN</td>\n",
       "    </tr>\n",
       "    <tr>\n",
       "      <td>2</td>\n",
       "      <td>NaN</td>\n",
       "      <td>March ,3019</td>\n",
       "      <td>Male</td>\n",
       "      <td>NaN</td>\n",
       "      <td>NaN</td>\n",
       "      <td>Lagduf</td>\n",
       "      <td>Orcs</td>\n",
       "      <td>NaN</td>\n",
       "      <td>NaN</td>\n",
       "    </tr>\n",
       "    <tr>\n",
       "      <td>3</td>\n",
       "      <td>TA 280</td>\n",
       "      <td>TA 515</td>\n",
       "      <td>Male</td>\n",
       "      <td>NaN</td>\n",
       "      <td>NaN</td>\n",
       "      <td>Tarcil</td>\n",
       "      <td>Men</td>\n",
       "      <td>Arnor</td>\n",
       "      <td>Unnamed wife</td>\n",
       "    </tr>\n",
       "    <tr>\n",
       "      <td>4</td>\n",
       "      <td>NaN</td>\n",
       "      <td>NaN</td>\n",
       "      <td>Male</td>\n",
       "      <td>NaN</td>\n",
       "      <td>NaN</td>\n",
       "      <td>Fire-drake of Gondolin</td>\n",
       "      <td>Dragon</td>\n",
       "      <td>NaN</td>\n",
       "      <td>NaN</td>\n",
       "    </tr>\n",
       "  </tbody>\n",
       "</table>\n",
       "</div>"
      ],
      "text/plain": [
       "     birth              death  gender                             hair height  \\\n",
       "0      NaN                NaN  Female                              NaN    NaN   \n",
       "1  TA 2978  February 26 ,3019    Male  Dark (book) Light brown (movie)    NaN   \n",
       "2      NaN        March ,3019    Male                              NaN    NaN   \n",
       "3   TA 280             TA 515    Male                              NaN    NaN   \n",
       "4      NaN                NaN    Male                              NaN    NaN   \n",
       "\n",
       "                     name    race  realm        spouse  \n",
       "0                  Adanel     Men    NaN       Belemir  \n",
       "1                 Boromir     Men    NaN           NaN  \n",
       "2                  Lagduf    Orcs    NaN           NaN  \n",
       "3                  Tarcil     Men  Arnor  Unnamed wife  \n",
       "4  Fire-drake of Gondolin  Dragon    NaN           NaN  "
      ]
     },
     "execution_count": 1,
     "metadata": {},
     "output_type": "execute_result"
    }
   ],
   "source": [
    "import pandas as pd\n",
    "from pandas_profiling import ProfileReport\n",
    "from sklearn.model_selection import train_test_split\n",
    "import numpy as np\n",
    "\n",
    "\n",
    "df = pd.read_csv('./lotr_characters.csv')\n",
    "df.head()"
   ]
  },
  {
   "cell_type": "code",
   "execution_count": 2,
   "metadata": {},
   "outputs": [],
   "source": [
    "# profile = ProfileReport(df, correlations = {'cramers': False})\n",
    "# profile"
   ]
  },
  {
   "cell_type": "code",
   "execution_count": 3,
   "metadata": {
    "scrolled": true
   },
   "outputs": [
    {
     "data": {
      "text/plain": [
       "array(['Men', 'Orcs', 'Dragon', 'Elves', nan, 'Hobbits', 'Dwarves',\n",
       "       'Dragons', 'Great Spiders', 'Black Uruk', 'Maiar', 'Ainur',\n",
       "       'Hobbit', 'Raven', 'Men,Wraith', 'Elf', 'God', 'Wolfhound',\n",
       "       'Half-elven', 'Men,Rohirrim', 'Maiar,Balrog', 'Werewolves',\n",
       "       'Dwarven', 'Goblin,Orc', 'Horse', 'Orc', 'Eagles', 'Uruk-hai',\n",
       "       'Great Eagles', 'Men,Skin-changer', 'Maiar,Balrogs',\n",
       "       'Uruk-hai,Orc', 'Orc,Goblin', 'Elves,Noldor', 'Drúedain',\n",
       "       'Urulóki', 'Ents,Onodrim', 'Skin-changer', 'Ents', 'Elves,Maiar',\n",
       "       'Balrog', 'Eagle', 'Dwarf', 'Stone-trolls', 'Vampire',\n",
       "       'Men,Undead', 'Half-elven,Men', 'Ainur,Maiar'], dtype=object)"
      ]
     },
     "execution_count": 3,
     "metadata": {},
     "output_type": "execute_result"
    }
   ],
   "source": [
    "df['race'].unique()\n",
    "\n",
    "# Men, Hobbits + Hobbit, Elves + Elf, Dwarves + Dwarf, Ainur, Orcs + Orc, Dragons + Dragon, OTHER"
   ]
  },
  {
   "cell_type": "code",
   "execution_count": 4,
   "metadata": {},
   "outputs": [],
   "source": [
    "df['race'] = df['race'].fillna('Unknown')"
   ]
  },
  {
   "cell_type": "code",
   "execution_count": 5,
   "metadata": {},
   "outputs": [
    {
     "data": {
      "text/html": [
       "<div>\n",
       "<style scoped>\n",
       "    .dataframe tbody tr th:only-of-type {\n",
       "        vertical-align: middle;\n",
       "    }\n",
       "\n",
       "    .dataframe tbody tr th {\n",
       "        vertical-align: top;\n",
       "    }\n",
       "\n",
       "    .dataframe thead th {\n",
       "        text-align: right;\n",
       "    }\n",
       "</style>\n",
       "<table border=\"1\" class=\"dataframe\">\n",
       "  <thead>\n",
       "    <tr style=\"text-align: right;\">\n",
       "      <th></th>\n",
       "      <th>birth</th>\n",
       "      <th>death</th>\n",
       "      <th>gender</th>\n",
       "      <th>hair</th>\n",
       "      <th>height</th>\n",
       "      <th>name</th>\n",
       "      <th>race</th>\n",
       "      <th>realm</th>\n",
       "      <th>spouse</th>\n",
       "    </tr>\n",
       "  </thead>\n",
       "  <tbody>\n",
       "    <tr>\n",
       "      <td>0</td>\n",
       "      <td>NaN</td>\n",
       "      <td>NaN</td>\n",
       "      <td>Female</td>\n",
       "      <td>NaN</td>\n",
       "      <td>NaN</td>\n",
       "      <td>Adanel</td>\n",
       "      <td>Men</td>\n",
       "      <td>NaN</td>\n",
       "      <td>Belemir</td>\n",
       "    </tr>\n",
       "    <tr>\n",
       "      <td>1</td>\n",
       "      <td>TA 2978</td>\n",
       "      <td>February 26 ,3019</td>\n",
       "      <td>Male</td>\n",
       "      <td>Dark (book) Light brown (movie)</td>\n",
       "      <td>NaN</td>\n",
       "      <td>Boromir</td>\n",
       "      <td>Men</td>\n",
       "      <td>NaN</td>\n",
       "      <td>NaN</td>\n",
       "    </tr>\n",
       "    <tr>\n",
       "      <td>2</td>\n",
       "      <td>NaN</td>\n",
       "      <td>March ,3019</td>\n",
       "      <td>Male</td>\n",
       "      <td>NaN</td>\n",
       "      <td>NaN</td>\n",
       "      <td>Lagduf</td>\n",
       "      <td>Orcs</td>\n",
       "      <td>NaN</td>\n",
       "      <td>NaN</td>\n",
       "    </tr>\n",
       "    <tr>\n",
       "      <td>3</td>\n",
       "      <td>TA 280</td>\n",
       "      <td>TA 515</td>\n",
       "      <td>Male</td>\n",
       "      <td>NaN</td>\n",
       "      <td>NaN</td>\n",
       "      <td>Tarcil</td>\n",
       "      <td>Men</td>\n",
       "      <td>Arnor</td>\n",
       "      <td>Unnamed wife</td>\n",
       "    </tr>\n",
       "    <tr>\n",
       "      <td>4</td>\n",
       "      <td>NaN</td>\n",
       "      <td>NaN</td>\n",
       "      <td>Male</td>\n",
       "      <td>NaN</td>\n",
       "      <td>NaN</td>\n",
       "      <td>Fire-drake of Gondolin</td>\n",
       "      <td>Dragon</td>\n",
       "      <td>NaN</td>\n",
       "      <td>NaN</td>\n",
       "    </tr>\n",
       "  </tbody>\n",
       "</table>\n",
       "</div>"
      ],
      "text/plain": [
       "     birth              death  gender                             hair height  \\\n",
       "0      NaN                NaN  Female                              NaN    NaN   \n",
       "1  TA 2978  February 26 ,3019    Male  Dark (book) Light brown (movie)    NaN   \n",
       "2      NaN        March ,3019    Male                              NaN    NaN   \n",
       "3   TA 280             TA 515    Male                              NaN    NaN   \n",
       "4      NaN                NaN    Male                              NaN    NaN   \n",
       "\n",
       "                     name    race  realm        spouse  \n",
       "0                  Adanel     Men    NaN       Belemir  \n",
       "1                 Boromir     Men    NaN           NaN  \n",
       "2                  Lagduf    Orcs    NaN           NaN  \n",
       "3                  Tarcil     Men  Arnor  Unnamed wife  \n",
       "4  Fire-drake of Gondolin  Dragon    NaN           NaN  "
      ]
     },
     "execution_count": 5,
     "metadata": {},
     "output_type": "execute_result"
    }
   ],
   "source": [
    "df.head()"
   ]
  },
  {
   "cell_type": "code",
   "execution_count": 6,
   "metadata": {},
   "outputs": [
    {
     "data": {
      "text/plain": [
       "'Men'"
      ]
     },
     "execution_count": 6,
     "metadata": {},
     "output_type": "execute_result"
    }
   ],
   "source": [
    "sample = 'Men,Skin-changer'\n",
    "fixed = sample.split(',')[0]\n",
    "\n",
    "fixed"
   ]
  },
  {
   "cell_type": "code",
   "execution_count": 7,
   "metadata": {},
   "outputs": [],
   "source": [
    "for item in df['race']:\n",
    "    new_item = item.split(',')[0]\n",
    "    df['race'].replace(item, new_item, inplace=True)"
   ]
  },
  {
   "cell_type": "code",
   "execution_count": 8,
   "metadata": {},
   "outputs": [
    {
     "data": {
      "text/plain": [
       "array(['Men', 'Orcs', 'Dragon', 'Elves', 'Unknown', 'Hobbits', 'Dwarves',\n",
       "       'Dragons', 'Great Spiders', 'Black Uruk', 'Maiar', 'Ainur',\n",
       "       'Hobbit', 'Raven', 'Elf', 'God', 'Wolfhound', 'Half-elven',\n",
       "       'Werewolves', 'Dwarven', 'Goblin', 'Horse', 'Orc', 'Eagles',\n",
       "       'Uruk-hai', 'Great Eagles', 'Drúedain', 'Urulóki', 'Ents',\n",
       "       'Skin-changer', 'Balrog', 'Eagle', 'Dwarf', 'Stone-trolls',\n",
       "       'Vampire'], dtype=object)"
      ]
     },
     "execution_count": 8,
     "metadata": {},
     "output_type": "execute_result"
    }
   ],
   "source": [
    "df['race'].unique()"
   ]
  },
  {
   "cell_type": "code",
   "execution_count": 9,
   "metadata": {},
   "outputs": [],
   "source": [
    "df['race'].replace('Dwarven', 'Dwarves', inplace = True)"
   ]
  },
  {
   "cell_type": "code",
   "execution_count": 10,
   "metadata": {},
   "outputs": [
    {
     "data": {
      "text/plain": [
       "Men              394\n",
       "Hobbits          142\n",
       "Unknown          140\n",
       "Elves            108\n",
       "Dwarves           44\n",
       "Ainur             25\n",
       "Orcs              11\n",
       "Half-elven         8\n",
       "Dragons            6\n",
       "Maiar              6\n",
       "Uruk-hai           4\n",
       "Ents               3\n",
       "Great Spiders      2\n",
       "Great Eagles       2\n",
       "Werewolves         2\n",
       "Eagles             1\n",
       "Drúedain           1\n",
       "Skin-changer       1\n",
       "Black Uruk         1\n",
       "Stone-trolls       1\n",
       "Horse              1\n",
       "Vampire            1\n",
       "God                1\n",
       "Balrog             1\n",
       "Raven              1\n",
       "Eagle              1\n",
       "Wolfhound          1\n",
       "Urulóki            1\n",
       "Goblin             1\n",
       "Name: race, dtype: int64"
      ]
     },
     "execution_count": 10,
     "metadata": {},
     "output_type": "execute_result"
    }
   ],
   "source": [
    "# Men, Hobbits + Hobbit, Elves + Elf, Dwarves + Dwarf, Ainur, Orcs + Orc, Dragons + Dragon, OTHER\n",
    "\n",
    "df['race'].replace(['Hobbit', 'Elf', 'Dwarf', 'Orc', 'Dragon'], ['Hobbits', 'Elves', 'Dwarves', 'Orcs', 'Dragons'], inplace = True)\n",
    "df['race'].value_counts()"
   ]
  },
  {
   "cell_type": "code",
   "execution_count": 11,
   "metadata": {},
   "outputs": [],
   "source": [
    "sample = df['race'].value_counts()\n",
    "df['race'] = np.where(df['race'].isin(sample.index[sample >= 5]), df['race'], 'Other')"
   ]
  },
  {
   "cell_type": "code",
   "execution_count": 12,
   "metadata": {},
   "outputs": [
    {
     "name": "stdout",
     "output_type": "stream",
     "text": [
      "Our baseline score is 0.43249176728869376.\n"
     ]
    }
   ],
   "source": [
    "percentages = df['race'].value_counts(normalize = True)\n",
    "print(f'Our baseline score is {percentages[0]}.')"
   ]
  },
  {
   "cell_type": "code",
   "execution_count": 13,
   "metadata": {},
   "outputs": [],
   "source": [
    "df.to_csv('lotr_clean.csv')"
   ]
  },
  {
   "cell_type": "code",
   "execution_count": 14,
   "metadata": {},
   "outputs": [],
   "source": [
    "train, test = train_test_split(df, train_size = 0.70, test_size = 0.30, stratify = df['race'], random_state = 42)\n",
    "val, test = train_test_split(test, train_size = 0.50, test_size = 0.50, stratify = test['race'], random_state = 42)\n",
    "\n",
    "target = 'race'\n",
    "train_features = train.drop(columns = target)"
   ]
  },
  {
   "cell_type": "code",
   "execution_count": 15,
   "metadata": {},
   "outputs": [],
   "source": [
    "numeric_features = train_features.select_dtypes(include='number').columns.tolist()\n",
    "cardinality = train_features.select_dtypes(exclude='number').nunique()\n",
    "categorical_features = cardinality[cardinality <= 1000].index.tolist()\n",
    "\n",
    "features = numeric_features + categorical_features"
   ]
  },
  {
   "cell_type": "code",
   "execution_count": 16,
   "metadata": {},
   "outputs": [
    {
     "data": {
      "text/plain": [
       "((637, 9), (137, 9), (137, 9))"
      ]
     },
     "execution_count": 16,
     "metadata": {},
     "output_type": "execute_result"
    }
   ],
   "source": [
    "train.shape, val.shape, test.shape"
   ]
  },
  {
   "cell_type": "code",
   "execution_count": 17,
   "metadata": {},
   "outputs": [
    {
     "data": {
      "text/plain": [
       "['birth', 'death', 'gender', 'hair', 'height', 'name', 'realm', 'spouse']"
      ]
     },
     "execution_count": 17,
     "metadata": {},
     "output_type": "execute_result"
    }
   ],
   "source": [
    "features"
   ]
  },
  {
   "cell_type": "code",
   "execution_count": 18,
   "metadata": {},
   "outputs": [],
   "source": [
    "X_train = train[features]\n",
    "y_train = train[target]\n",
    "X_val = val[features]\n",
    "y_val = val[target]\n",
    "X_test = test[features]"
   ]
  },
  {
   "cell_type": "code",
   "execution_count": 19,
   "metadata": {},
   "outputs": [
    {
     "name": "stderr",
     "output_type": "stream",
     "text": [
      "C:\\Users\\anika\\Anaconda3\\lib\\site-packages\\sklearn\\ensemble\\forest.py:245: FutureWarning: The default value of n_estimators will change from 10 in version 0.20 to 100 in 0.22.\n",
      "  \"10 in version 0.20 to 100 in 0.22.\", FutureWarning)\n"
     ]
    },
    {
     "name": "stdout",
     "output_type": "stream",
     "text": [
      "Validation Accuracy 0.656934306569343\n"
     ]
    }
   ],
   "source": [
    "import category_encoders as ce\n",
    "from sklearn.ensemble import RandomForestClassifier\n",
    "from sklearn.impute import SimpleImputer\n",
    "from sklearn.pipeline import make_pipeline\n",
    "\n",
    "pipeline = make_pipeline(\n",
    "    ce.OneHotEncoder(use_cat_names=True), \n",
    "    SimpleImputer(strategy='median'), \n",
    "    RandomForestClassifier(random_state=0, n_jobs=-1)\n",
    ")\n",
    "\n",
    "# Fit on train, score on val\n",
    "pipeline.fit(X_train, y_train)\n",
    "print('Validation Accuracy', pipeline.score(X_val, y_val))"
   ]
  },
  {
   "cell_type": "code",
   "execution_count": 20,
   "metadata": {},
   "outputs": [
    {
     "name": "stdout",
     "output_type": "stream",
     "text": [
      "X_train shape after encoding (637, 1593)\n"
     ]
    }
   ],
   "source": [
    "encoder = pipeline.named_steps['onehotencoder']\n",
    "encoded = encoder.transform(X_train)\n",
    "print('X_train shape after encoding', encoded.shape)"
   ]
  },
  {
   "cell_type": "code",
   "execution_count": 21,
   "metadata": {},
   "outputs": [
    {
     "data": {
      "image/png": "[encoded data removed]",
      "text/plain": [
       "<Figure size 720x720 with 1 Axes>"
      ]
     },
     "metadata": {
      "needs_background": "light"
     },
     "output_type": "display_data"
    }
   ],
   "source": [
    "import matplotlib.pyplot as plt\n",
    "\n",
    "# Get feature importances\n",
    "rf = pipeline.named_steps['randomforestclassifier']\n",
    "importances = pd.Series(rf.feature_importances_, encoded.columns)\n",
    "\n",
    "# Plot top n feature importances\n",
    "n = 20\n",
    "plt.figure(figsize=(10,n/2))\n",
    "plt.title(f'Top {n} features')\n",
    "importances.sort_values()[-n:].plot.barh();"
   ]
  },
  {
   "cell_type": "markdown",
   "metadata": {},
   "source": [
    "## Try some new features"
   ]
  },
  {
   "cell_type": "code",
   "execution_count": 22,
   "metadata": {},
   "outputs": [],
   "source": [
    "names = pd.read_csv('./lotr_with_name_info.csv')\n",
    "names = names.drop(['Unnamed: 0', 'Unnamed: 0.1'], axis = 1)"
   ]
  },
  {
   "cell_type": "code",
   "execution_count": 23,
   "metadata": {},
   "outputs": [],
   "source": [
    "train, test = train_test_split(names, train_size = 0.70, test_size = 0.30, stratify = names['race'], random_state = 42)\n",
    "val, test = train_test_split(test, train_size = 0.50, test_size = 0.50, stratify = test['race'], random_state = 42)\n",
    "\n",
    "target = 'race'\n",
    "train_features = train.drop(columns = target)"
   ]
  },
  {
   "cell_type": "code",
   "execution_count": 24,
   "metadata": {},
   "outputs": [],
   "source": [
    "numeric_features = train_features.select_dtypes(include='number').columns.tolist()\n",
    "cardinality = train_features.select_dtypes(exclude='number').nunique()\n",
    "categorical_features = cardinality[cardinality <= 1000].index.tolist()\n",
    "\n",
    "features = numeric_features + categorical_features"
   ]
  },
  {
   "cell_type": "code",
   "execution_count": 25,
   "metadata": {},
   "outputs": [
    {
     "data": {
      "text/plain": [
       "['name_length',\n",
       " 'vowel_count',\n",
       " 'pct_vowels',\n",
       " 'birth',\n",
       " 'death',\n",
       " 'gender',\n",
       " 'hair',\n",
       " 'height',\n",
       " 'name',\n",
       " 'realm',\n",
       " 'spouse',\n",
       " 'first_letter',\n",
       " 'starts_vowel']"
      ]
     },
     "execution_count": 25,
     "metadata": {},
     "output_type": "execute_result"
    }
   ],
   "source": [
    "features"
   ]
  },
  {
   "cell_type": "code",
   "execution_count": 26,
   "metadata": {},
   "outputs": [],
   "source": [
    "X_train = train[features]\n",
    "y_train = train[target]\n",
    "X_val = val[features]\n",
    "y_val = val[target]\n",
    "X_test = test[features]"
   ]
  },
  {
   "cell_type": "code",
   "execution_count": 27,
   "metadata": {},
   "outputs": [
    {
     "name": "stderr",
     "output_type": "stream",
     "text": [
      "C:\\Users\\anika\\Anaconda3\\lib\\site-packages\\sklearn\\ensemble\\forest.py:245: FutureWarning: The default value of n_estimators will change from 10 in version 0.20 to 100 in 0.22.\n",
      "  \"10 in version 0.20 to 100 in 0.22.\", FutureWarning)\n"
     ]
    },
    {
     "name": "stdout",
     "output_type": "stream",
     "text": [
      "Validation Accuracy 0.7591240875912408\n"
     ]
    }
   ],
   "source": [
    "import category_encoders as ce\n",
    "from sklearn.ensemble import RandomForestClassifier\n",
    "from sklearn.impute import SimpleImputer\n",
    "from sklearn.pipeline import make_pipeline\n",
    "\n",
    "pipeline = make_pipeline(\n",
    "    ce.OneHotEncoder(use_cat_names=True), \n",
    "    SimpleImputer(strategy='median'), \n",
    "    RandomForestClassifier(random_state=0, n_jobs=-1)\n",
    ")\n",
    "\n",
    "# Fit on train, score on val\n",
    "pipeline.fit(X_train, y_train)\n",
    "print('Validation Accuracy', pipeline.score(X_val, y_val))"
   ]
  },
  {
   "cell_type": "code",
   "execution_count": 28,
   "metadata": {},
   "outputs": [
    {
     "name": "stdout",
     "output_type": "stream",
     "text": [
      "X_train shape after encoding (637, 1626)\n"
     ]
    }
   ],
   "source": [
    "encoder = pipeline.named_steps['onehotencoder']\n",
    "encoded = encoder.transform(X_train)\n",
    "print('X_train shape after encoding', encoded.shape)"
   ]
  },
  {
   "cell_type": "code",
   "execution_count": 30,
   "metadata": {},
   "outputs": [
    {
     "data": {
      "image/png": "[encoded data removed]",
      "text/plain": [
       "<Figure size 720x720 with 1 Axes>"
      ]
     },
     "metadata": {
      "needs_background": "light"
     },
     "output_type": "display_data"
    }
   ],
   "source": [
    "import matplotlib.pyplot as plt\n",
    "\n",
    "# Get feature importances\n",
    "rf = pipeline.named_steps['randomforestclassifier']\n",
    "importances = pd.Series(rf.feature_importances_, encoded.columns)\n",
    "\n",
    "# Plot top n feature importances\n",
    "n = 20\n",
    "plt.figure(figsize=(10,n/2))\n",
    "plt.title(f'Top {n} Features')\n",
    "importances.sort_values()[-n:].plot.barh();"
   ]
  },
  {
   "cell_type": "code",
   "execution_count": null,
   "metadata": {},
   "outputs": [],
   "source": []
  }
 ],
 "metadata": {
  "kernelspec": {
   "display_name": "Python 3",
   "language": "python",
   "name": "python3"
  },
  "language_info": {
   "codemirror_mode": {
    "name": "ipython",
    "version": 3
   },
   "file_extension": ".py",
   "mimetype": "text/x-python",
   "name": "python",
   "nbconvert_exporter": "python",
   "pygments_lexer": "ipython3",
   "version": "3.7.4"
  }
 },
 "nbformat": 4,
 "nbformat_minor": 2
}
